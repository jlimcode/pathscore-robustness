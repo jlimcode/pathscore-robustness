{
  "cells": [
    {
      "attachments": {},
      "cell_type": "markdown",
      "metadata": {
        "id": "nErliiPl5L5H"
      },
      "source": [
        "# Load All Libraries\n"
      ]
    },
    {
      "cell_type": "code",
      "execution_count": null,
      "metadata": {
        "id": "ZmfuplEg5Pqt"
      },
      "outputs": [],
      "source": [
        "import matplotlib as mpl\n",
        "from matplotlib import pyplot as plt\n",
        "import networkx as nx\n",
        "import numpy as np\n",
        "import pandas as pd\n"
      ]
    },
    {
      "attachments": {},
      "cell_type": "markdown",
      "metadata": {
        "id": "dnRx529UHzw0"
      },
      "source": [
        "# Import Data\n",
        "\n",
        "Get the data from Google Drive and extract (only for Google Colab Execution)\n"
      ]
    },
    {
      "cell_type": "code",
      "execution_count": null,
      "metadata": {
        "id": "PnySfx2WFKHe"
      },
      "outputs": [],
      "source": [
        "# libraries for the files in google drive\n",
        "from pydrive.auth import GoogleAuth\n",
        "from google.colab import drive\n",
        "from pydrive.drive import GoogleDrive\n",
        "from google.colab import auth\n",
        "from oauth2client.client import GoogleCredentials\n",
        "\n",
        "auth.authenticate_user()\n",
        "gauth = GoogleAuth()\n",
        "gauth.credentials = GoogleCredentials.get_application_default()\n",
        "drive = GoogleDrive(gauth)\n",
        "\n",
        "# \"https://drive.google.com/file/d/1QFsBg6GY42qszHKkUSsTMJtYvINnwNN6/view?usp=share_link\"\n",
        "\n",
        "# https://drive.google.com/file/d/1ADAPg7rpMqDq_0BmstBJ_HVl-Yt6WEVr/view?usp=sharing\n",
        "\n",
        "file_id = '1QFsBg6GY42qszHKkUSsTMJtYvINnwNN6'\n",
        "\n",
        "download = drive.CreateFile({'id': file_id})\n",
        "\n",
        "\n",
        "# Download the file to a local disc\n",
        "download.GetContentFile('subway.tar.gz')\n"
      ]
    },
    {
      "attachments": {},
      "cell_type": "markdown",
      "metadata": {
        "id": "1IkQFF6T2BET"
      },
      "source": [
        "## Load Network Data\n"
      ]
    },
    {
      "cell_type": "code",
      "execution_count": null,
      "metadata": {
        "id": "sQLHAOIXHTFi"
      },
      "outputs": [],
      "source": [
        "# importing the \"tarfile\" module\n",
        "import tarfile\n",
        "\n",
        "# open file\n",
        "file = tarfile.open('subway.tar.gz')\n",
        "\n",
        "# extracting file\n",
        "file.extractall('./subway_data')\n",
        "\n",
        "file.close()\n"
      ]
    },
    {
      "attachments": {},
      "cell_type": "markdown",
      "metadata": {
        "id": "lxePkXXk3UdR"
      },
      "source": [
        "## Path Score Import Data\n"
      ]
    },
    {
      "cell_type": "code",
      "execution_count": null,
      "metadata": {
        "id": "GxF8IQiS3SGj"
      },
      "outputs": [],
      "source": [
        "path_score_id = drive.CreateFile({'id': \"1ADAPg7rpMqDq_0BmstBJ_HVl-Yt6WEVr\"})\n",
        "path_score_id.GetContentFile('path_scores.tar.gz')\n",
        "\n",
        "file = tarfile.open('path_scores.tar.gz')\n",
        "\n",
        "file.extractall(\"./path_scores\")\n",
        "\n",
        "file.close()\n"
      ]
    },
    {
      "attachments": {},
      "cell_type": "markdown",
      "metadata": {
        "id": "TeaFGumiH9DU"
      },
      "source": [
        "## Importing Networks\n",
        "\n",
        "From the raw data, create `networkx` objects.\n"
      ]
    },
    {
      "cell_type": "code",
      "execution_count": null,
      "metadata": {
        "colab": {
          "base_uri": "https://localhost:8080/",
          "height": 91
        },
        "id": "0FmzZ0OeIEb_",
        "outputId": "6c16329c-d8bf-4a44-963c-3e7249ee2f20"
      },
      "outputs": [],
      "source": [
        "file_prefix = \"./subway_data/Subways\"\n",
        "\n",
        "# with open(file_prefix + \"/Barcelona/Barcelona-topologies/Barcelona-2010-adjacency.txt\", 'r') as f:\n",
        "#     print(f.read())\n",
        "\n",
        "barc2010 = nx.read_edgelist(file_prefix + \"/Barcelona/Barcelona-topologies/Barcelona-2010-adjacency.txt\",\n",
        "                            create_using=nx.Graph(),\n",
        "                            nodetype=str)\n",
        "\n",
        "nx.info(barc2010)\n"
      ]
    },
    {
      "cell_type": "code",
      "execution_count": null,
      "metadata": {
        "colab": {
          "base_uri": "https://localhost:8080/"
        },
        "id": "6iaNaXWrPHjb",
        "outputId": "49a9c9a4-363f-4d0f-813a-42cc6cc46d2e"
      },
      "outputs": [],
      "source": [
        "data = pd.read_csv(\n",
        "    file_prefix + \"/Barcelona/Barcelona-topologies/Barcelona-2010-adjacency-number.txt\", sep=\"\\t\", header=None)\n",
        "# data\n",
        "data.columns = [\"source\", \"dest\"]\n",
        "all_indexes = data[\"source\"].tolist() + data[\"dest\"].tolist()\n",
        "\n",
        "for i in range(1, 139):\n",
        "    if not i in all_indexes:\n",
        "        print(i)\n"
      ]
    },
    {
      "cell_type": "code",
      "execution_count": null,
      "metadata": {
        "id": "OX-nD95XLpj8"
      },
      "outputs": [],
      "source": [
        "# Output in high quality.\n",
        "%config InlineBackend.figure_format = 'retina'\n"
      ]
    },
    {
      "attachments": {},
      "cell_type": "markdown",
      "metadata": {
        "id": "opcWZi2l2MCJ"
      },
      "source": [
        "# Plotting Networks\n"
      ]
    },
    {
      "cell_type": "code",
      "execution_count": null,
      "metadata": {
        "colab": {
          "base_uri": "https://localhost:8080/",
          "height": 248
        },
        "id": "yKyyx0pOJr9w",
        "outputId": "2b31f82e-6585-474f-d355-98d3b106134d"
      },
      "outputs": [],
      "source": [
        "import matplotlib.pyplot as plt\n",
        "\n",
        "# plt.rcParams['figure.figsize'] = (15, 8)\n",
        "\n",
        "pos = nx.spring_layout(barc2010)\n",
        "nx.draw_networkx(barc2010, pos, arrows=False, font_size=4,\n",
        "                 node_size=200, node_color='lightgray', edgecolors='darkorange')\n"
      ]
    },
    {
      "cell_type": "code",
      "execution_count": null,
      "metadata": {
        "colab": {
          "base_uri": "https://localhost:8080/",
          "height": 286
        },
        "id": "mq-RKgHvPR4F",
        "outputId": "e4ca93a8-5f2b-4c2e-9bbe-b1a463631a84"
      },
      "outputs": [],
      "source": [
        "from matplotlib import pyplot as plt\n",
        "import networkx as nx\n",
        "import numpy as np\n",
        "\n",
        "# plt.rcParams['figure.figsize'] = (15, 8)\n",
        "P = [val for (node, val) in barc2010.degree()]\n",
        "color_hex_values = [hex(int(250/e*100))[2:] for e in P]\n",
        "print(color_hex_values)\n",
        "pos = nx.spring_layout(barc2010)\n",
        "nx.draw_networkx(barc2010, pos, arrows=False, font_size=4, node_size=180,\n",
        "                 with_labels=True, node_color=[f\"#ff{hv}\" for hv in color_hex_values])\n"
      ]
    },
    {
      "cell_type": "code",
      "execution_count": null,
      "metadata": {
        "colab": {
          "base_uri": "https://localhost:8080/",
          "height": 286
        },
        "id": "8mzcpxTiS6SG",
        "outputId": "f3853550-c423-44e0-b590-669faa3fd853"
      },
      "outputs": [],
      "source": [
        "d = dict(barc2010.degree)\n",
        "print(d)\n",
        "low, *_, high = sorted(d.values())\n",
        "norm = mpl.colors.Normalize(vmin=low, vmax=high, clip=True)\n",
        "mapper = mpl.cm.ScalarMappable(norm=norm, cmap=mpl.cm.coolwarm)\n",
        "\n",
        "pos = nx.spring_layout(barc2010)\n",
        "nx.draw_networkx(barc2010, pos, arrows=False, font_size=4,\n",
        "                 nodelist=d,\n",
        "                 node_size=200,\n",
        "                 node_color=[mapper.to_rgba(i)\n",
        "                             for i in d.values()],\n",
        "                 with_labels=True,\n",
        "                 font_color='black')\n",
        "plt.show()\n"
      ]
    },
    {
      "cell_type": "code",
      "execution_count": null,
      "metadata": {
        "id": "Itx2KXF1ujNi"
      },
      "outputs": [],
      "source": [
        "osaka2010 = nx.read_edgelist(file_prefix + \"/Osaka/osaka-topologies/Osaka-2010-adjacency.txt\",\n",
        "                             create_using=nx.Graph(),\n",
        "                             nodetype=str)\n",
        "\n",
        "paris2009 = nx.read_edgelist(file_prefix + \"/Paris/Paris-topologies/Paris-2009-adjacency.txt\",\n",
        "                             create_using=nx.Graph(),\n",
        "                             nodetype=str)\n"
      ]
    },
    {
      "cell_type": "code",
      "execution_count": null,
      "metadata": {
        "colab": {
          "base_uri": "https://localhost:8080/",
          "height": 259
        },
        "id": "1QexQs64v9UG",
        "outputId": "594d22b8-ed7f-49ae-c5fd-e9bef3a62afa"
      },
      "outputs": [],
      "source": [
        "degree_sequence_osaka = sorted(\n",
        "    (d for n, d in osaka2010.degree()), reverse=True)\n",
        "fig = plt.figure(\"Degree Distributions\", figsize=(10, 8))\n",
        "axgrid = fig.add_gridspec(5, 4)\n",
        "\n",
        "ax0 = fig.add_subplot(axgrid[3:, 2:])\n",
        "ax0.bar(*np.unique(degree_sequence_osaka, return_counts=True))\n",
        "ax0.set_title(\"Degree distribution of Osaka 2010 Subway System\")\n",
        "ax0.set_xlabel(\"Degree\")\n",
        "ax0.set_ylabel(\"# of Nodes\")\n"
      ]
    },
    {
      "cell_type": "code",
      "execution_count": null,
      "metadata": {
        "colab": {
          "base_uri": "https://localhost:8080/",
          "height": 259
        },
        "id": "HFwaTzJuyiKy",
        "outputId": "c4972aa2-7f27-4082-b042-f667ba2c4b86"
      },
      "outputs": [],
      "source": [
        "degree_sequence_paris = sorted(\n",
        "    (d for n, d in paris2009.degree()), reverse=True)\n",
        "fig2 = plt.figure(\"Degree Distributions\", figsize=(10, 8))\n",
        "axgrid = fig2.add_gridspec(5, 4)\n",
        "ax1 = fig2.add_subplot(axgrid[3:, 2:])\n",
        "ax1.bar(*np.unique(degree_sequence_paris, return_counts=True))\n",
        "ax1.set_title(\"Degree distribution of Paris 2009 Subway System\")\n",
        "ax1.set_xlabel(\"Degree\")\n",
        "ax1.set_ylabel(\"# of Nodes\")\n"
      ]
    },
    {
      "attachments": {},
      "cell_type": "markdown",
      "metadata": {
        "id": "FXlAwVLNc0YG"
      },
      "source": [
        "## Create graphs for each subway system\n"
      ]
    },
    {
      "cell_type": "code",
      "execution_count": null,
      "metadata": {
        "colab": {
          "base_uri": "https://localhost:8080/"
        },
        "id": "2iCZVuLB6wVJ",
        "outputId": "3df8c544-3a5d-40de-d2a7-f0e7d33dcd11"
      },
      "outputs": [],
      "source": [
        "!pip install Unidecode\n"
      ]
    },
    {
      "cell_type": "code",
      "execution_count": null,
      "metadata": {
        "id": "g-EIk9zG51o1"
      },
      "outputs": [],
      "source": [
        "from unidecode import unidecode\n",
        "import io\n",
        "\n",
        "madrid_file = open(\n",
        "    file_prefix + \"/Madrid/madrid-topologies-noLR/Madrid-2009-adjacency.txt\", encoding=\"latin-1\")\n",
        "\n",
        "string_rep = madrid_file.read()\n",
        "normalized = unidecode(string_rep)\n",
        "\n",
        "pseudofile = io.StringIO(normalized)\n",
        "\n",
        "madrid_file.close()\n"
      ]
    },
    {
      "cell_type": "code",
      "execution_count": null,
      "metadata": {
        "id": "Nzeb1ahCdGqc"
      },
      "outputs": [],
      "source": [
        "G_barcelona = nx.read_edgelist(file_prefix + \"/Barcelona/Barcelona-topologies/Barcelona-2010-adjacency.txt\",\n",
        "                               create_using=nx.Graph(),\n",
        "                               nodetype=str)\n",
        "G_beijing = nx.read_edgelist(file_prefix + \"/Beijing/Beijing-topologies/Beijing-2010-adjacency.txt\",\n",
        "                             create_using=nx.Graph(),\n",
        "                             nodetype=str)\n",
        "G_berlin = nx.read_edgelist(file_prefix + \"/Berlin/Berlin-topologies/Berlin-2010-adjacency.txt\",\n",
        "                            create_using=nx.Graph(),\n",
        "                            nodetype=str)\n",
        "G_hongkong = nx.read_edgelist(file_prefix + \"/HongKong/HongKong-topologies/HongKong-2009-adjacency.txt\",\n",
        "                              create_using=nx.Graph(),\n",
        "                              nodetype=str)\n",
        "G_london = nx.read_edgelist(file_prefix + \"/london-tube/London-topologies/London-2009-adjacency.txt\",\n",
        "                            create_using=nx.Graph(),\n",
        "                            nodetype=str)\n",
        "G_madrid = nx.read_edgelist(pseudofile,\n",
        "                            create_using=nx.Graph(),\n",
        "                            nodetype=str)\n",
        "G_mexico = nx.read_edgelist(file_prefix + \"/mexicodf/Mexico-topologies/Mexico-2009-adjacency.txt\",\n",
        "                            create_using=nx.Graph(),\n",
        "                            nodetype=str)\n",
        "G_moscow = nx.read_edgelist(file_prefix + \"/Moscow/Moscow-topologies/Moscow-2009-adjacency.txt\",\n",
        "                            create_using=nx.Graph(),\n",
        "                            nodetype=str)\n",
        "G_nyc = nx.read_edgelist(file_prefix + \"/NYC/NYC-2009-adjacency.txt\",\n",
        "                         create_using=nx.Graph(),\n",
        "                         nodetype=str)\n",
        "G_osaka = nx.read_edgelist(file_prefix + \"/Osaka/osaka-topologies/Osaka-2010-adjacency.txt\",\n",
        "                           create_using=nx.Graph(),\n",
        "                           nodetype=str)\n",
        "G_paris = nx.read_edgelist(file_prefix + \"/Paris/Paris-topologies/Paris-2009-adjacency.txt\",\n",
        "                           create_using=nx.Graph(),\n",
        "                           nodetype=str)\n",
        "G_seoul = nx.read_edgelist(file_prefix + \"/Seoul/Seoul-topologies/Seoul-2009-adjacency.txt\",\n",
        "                           create_using=nx.Graph(),\n",
        "                           nodetype=str)\n",
        "G_shanghai = nx.read_edgelist(file_prefix + \"/Shanghai/Shanghai-topologies/Shanghai-2010-adjacency.txt\",\n",
        "                              create_using=nx.Graph(),\n",
        "                              nodetype=str)\n",
        "G_tokyo = nx.read_edgelist(file_prefix + \"/New_tokyo/Tokyo-topologies/Tokyo-2009-adjacency.txt\",\n",
        "                           create_using=nx.Graph(),\n",
        "                           nodetype=str)\n"
      ]
    },
    {
      "cell_type": "code",
      "execution_count": null,
      "metadata": {
        "colab": {
          "base_uri": "https://localhost:8080/"
        },
        "id": "18zqqjIsh_J8",
        "outputId": "3885da59-9a28-4d10-9903-413c31a9838b"
      },
      "outputs": [],
      "source": [
        "# get vector of network sizes\n",
        "networks_graphs = [G_barcelona, G_beijing, G_berlin, G_hongkong,\n",
        "                   G_london, G_madrid, G_mexico, G_moscow,\n",
        "                   G_nyc, G_osaka, G_paris, G_seoul,\n",
        "                   G_shanghai, G_tokyo]\n",
        "\n",
        "network_size = [G.number_of_nodes() for G in networks_graphs]\n",
        "network_size\n"
      ]
    },
    {
      "attachments": {},
      "cell_type": "markdown",
      "metadata": {
        "id": "nVd_kBm1on6k"
      },
      "source": [
        "## Plot Degree Distributions\n"
      ]
    },
    {
      "cell_type": "code",
      "execution_count": null,
      "metadata": {},
      "outputs": [],
      "source": [
        "def cm_to_in(cm):\n",
        "    return cm / 2.54\n"
      ]
    },
    {
      "cell_type": "code",
      "execution_count": null,
      "metadata": {},
      "outputs": [],
      "source": [
        "\n",
        "def degree_sequence(G: nx.Graph):\n",
        "    return sorted((d for n, d in G.degree()), reverse=True)\n",
        "\n",
        "\n",
        "def degree_counts(deg_sequence):\n",
        "    return np.unique(deg_sequence, return_counts=True)\n"
      ]
    },
    {
      "cell_type": "code",
      "execution_count": null,
      "metadata": {},
      "outputs": [],
      "source": [
        "\n",
        "def density(deg_sequence):\n",
        "    count, freq = degree_counts(deg_sequence)\n",
        "    density = freq / freq.sum()\n",
        "    return (count, density)\n"
      ]
    },
    {
      "cell_type": "code",
      "execution_count": null,
      "metadata": {
        "colab": {
          "base_uri": "https://localhost:8080/",
          "height": 337
        },
        "id": "JEpkzY0aonnD",
        "outputId": "cf174742-4af7-492f-a66e-f51498186f6e"
      },
      "outputs": [],
      "source": [
        "# plt.rcParams[\"figure.figsize\"] = plt.rcParamsDefault[\"figure.figsize\"]\n",
        "\n",
        "plt.figure(figsize=(cm_to_in(17.8), cm_to_in(10.68)))\n",
        "figure, ax = plt.subplots(3, 5)\n",
        "\n",
        "\n",
        "degree_sequence_barcelona = degree_sequence(G_barcelona)\n",
        "ax[0, 0].bar(*density(degree_sequence_barcelona))\n",
        "ax[0, 0].set_title(\"Barcelona\", fontsize=10)\n",
        "ax[0, 0].set_xlim([1, 10])\n",
        "ax[0, 0].set_ylim([0, 1])\n",
        "ax[0, 0].set_xticklabels([])\n",
        "\n",
        "\n",
        "degree_sequence_beijing = degree_sequence(G_beijing)\n",
        "ax[0, 1].bar(*density(degree_sequence_beijing))\n",
        "ax[0, 1].set_title(\"Beijing\", fontsize=10)\n",
        "ax[0, 1].set_xlim([1, 10])\n",
        "ax[0, 1].set_ylim([0, 1])\n",
        "ax[0, 1].set_yticklabels([])\n",
        "ax[0, 1].set_xticklabels([])\n",
        "\n",
        "\n",
        "degree_sequence_berlin = degree_sequence(G_berlin)\n",
        "ax[0, 2].bar(*density(degree_sequence_berlin))\n",
        "ax[0, 2].set_title(\"Berlin\", fontsize=10)\n",
        "ax[0, 2].set_xlim([1, 10])\n",
        "ax[0, 2].set_ylim([0, 1])\n",
        "ax[0, 2].set_yticklabels([])\n",
        "ax[0, 2].set_xticklabels([])\n",
        "\n",
        "\n",
        "degree_sequence_hongkong = degree_sequence(G_hongkong)\n",
        "ax[0, 3].bar(*density(degree_sequence_hongkong))\n",
        "ax[0, 3].set_title(\"Hong Kong\", fontsize=10)\n",
        "ax[0, 3].set_xlim([1, 10])\n",
        "ax[0, 3].set_ylim([0, 1])\n",
        "ax[0, 3].set_yticklabels([])\n",
        "ax[0, 3].set_xticklabels([])\n",
        "\n",
        "\n",
        "degree_sequence_london = degree_sequence(G_london)\n",
        "ax[0, 4].bar(*density(degree_sequence_london))\n",
        "ax[0, 4].set_title(\"London\", fontsize=10)\n",
        "ax[0, 4].set_xlim([1, 10])\n",
        "ax[0, 4].set_ylim([0, 1])\n",
        "ax[0, 4].set_yticklabels([])\n",
        "ax[0, 4].set_xticklabels([])\n",
        "\n",
        "\n",
        "degree_sequence_madrid = degree_sequence(G_madrid)\n",
        "ax[1, 0].bar(*density(degree_sequence_madrid))\n",
        "ax[1, 0].set_title(\"Madrid\", fontsize=10)\n",
        "ax[1, 0].set_xlim([1, 10])\n",
        "ax[1, 0].set_ylim([0, 1])\n",
        "ax[1, 0].set_xticklabels([])\n",
        "\n",
        "\n",
        "degree_sequence_mexico = degree_sequence(G_mexico)\n",
        "ax[1, 1].bar(*density(degree_sequence_mexico))\n",
        "ax[1, 1].set_title(\"Mexico City\", fontsize=10)\n",
        "ax[1, 1].set_xlim([1, 10])\n",
        "ax[1, 1].set_ylim([0, 1])\n",
        "ax[1, 1].set_yticklabels([])\n",
        "ax[1, 1].set_xticklabels([])\n",
        "\n",
        "\n",
        "degree_sequence_moscow = degree_sequence(G_moscow)\n",
        "ax[1, 2].bar(*density(degree_sequence_moscow))\n",
        "ax[1, 2].set_title(\"Moscow\", fontsize=10)\n",
        "ax[1, 2].set_xlim([1, 10])\n",
        "ax[1, 2].set_ylim([0, 1])\n",
        "ax[1, 2].set_yticklabels([])\n",
        "ax[1, 2].set_xticklabels([])\n",
        "\n",
        "\n",
        "degree_sequence_nyc = degree_sequence(G_nyc)\n",
        "ax[1, 3].bar(*density(degree_sequence_nyc))\n",
        "ax[1, 3].set_title(\"NYC\", fontsize=10)\n",
        "ax[1, 3].set_xlim([1, 10])\n",
        "ax[1, 3].set_ylim([0, 1])\n",
        "ax[1, 3].set_yticklabels([])\n",
        "ax[1, 3].set_xticklabels([])\n",
        "\n",
        "\n",
        "degree_sequence_osaka = degree_sequence(G_osaka)\n",
        "ax[1, 4].bar(*density(degree_sequence_osaka))\n",
        "ax[1, 4].set_title(\"Osaka\", fontsize=10)\n",
        "ax[1, 4].set_xlim([1, 10])\n",
        "ax[1, 4].set_ylim([0, 1])\n",
        "ax[1, 4].set_yticklabels([])\n",
        "\n",
        "\n",
        "degree_sequence_paris = degree_sequence(G_paris)\n",
        "ax[2, 0].bar(*density(degree_sequence_paris))\n",
        "ax[2, 0].set_title(\"Paris\", fontsize=10)\n",
        "ax[2, 0].set_xlim([1, 10])\n",
        "ax[2, 0].set_ylim([0, 1])\n",
        "\n",
        "\n",
        "degree_sequence_seoul = degree_sequence(G_seoul)\n",
        "ax[2, 1].bar(*density(degree_sequence_seoul))\n",
        "ax[2, 1].set_title(\"Seoul\", fontsize=10)\n",
        "ax[2, 1].set_xlim([1, 10])\n",
        "ax[2, 1].set_ylim([0, 1])\n",
        "ax[2, 1].set_yticklabels([])\n",
        "\n",
        "\n",
        "degree_sequence_shanghai = degree_sequence(G_shanghai)\n",
        "ax[2, 2].bar(*density(degree_sequence_shanghai))\n",
        "ax[2, 2].set_title(\"Shanghai\", fontsize=10)\n",
        "ax[2, 2].set_xlim([1, 10])\n",
        "ax[2, 2].set_ylim([0, 1])\n",
        "ax[2, 2].set_yticklabels([])\n",
        "\n",
        "\n",
        "degree_sequence_tokyo = degree_sequence(G_tokyo)\n",
        "ax[2, 3].bar(*density(degree_sequence_tokyo))\n",
        "ax[2, 3].set_title(\"Tokyo\", fontsize=10)\n",
        "ax[2, 3].set_xlim([1, 10])\n",
        "ax[2, 3].set_ylim([0, 1])\n",
        "ax[2, 3].set_yticklabels([])\n",
        "\n",
        "\n",
        "figure.delaxes(ax[2, 4])\n",
        "\n",
        "figure.supxlabel(\"Degree\")\n",
        "figure.supylabel(\"Density\")\n",
        "\n",
        "plt.show()\n"
      ]
    },
    {
      "cell_type": "code",
      "execution_count": null,
      "metadata": {
        "id": "qLUSADA1-pzq"
      },
      "outputs": [],
      "source": [
        "# get vector of number of transfer stations\n",
        "transfers = [sum(i > 2 for i in degree_sequence_barcelona), sum(i > 2 for i in degree_sequence_beijing), sum(i > 2 for i in degree_sequence_berlin),\n",
        "             sum(i > 2 for i in degree_sequence_hongkong), sum(\n",
        "                 i > 2 for i in degree_sequence_london), sum(i > 2 for i in degree_sequence_madrid),\n",
        "             sum(i > 2 for i in degree_sequence_mexico), sum(\n",
        "                 i > 2 for i in degree_sequence_moscow), sum(i > 2 for i in degree_sequence_nyc),\n",
        "             sum(i > 2 for i in degree_sequence_osaka), sum(\n",
        "                 i > 2 for i in degree_sequence_paris), sum(i > 2 for i in degree_sequence_seoul),\n",
        "             sum(i > 2 for i in degree_sequence_shanghai), sum(i > 2 for i in degree_sequence_tokyo)]\n",
        "transfer_fraction = [i / j for i, j in zip(transfers, network_size)]\n"
      ]
    },
    {
      "attachments": {},
      "cell_type": "markdown",
      "metadata": {
        "id": "gcDQuJJJ6CRo"
      },
      "source": [
        "## Read In Path Score Vectors\n"
      ]
    },
    {
      "cell_type": "code",
      "execution_count": null,
      "metadata": {
        "id": "vbJEKT_t6Bwp"
      },
      "outputs": [],
      "source": [
        "barcelona = pd.read_excel(\n",
        "    \"/content/path_scores/path_scores/barcelonaPathName.xlsx\")\n",
        "beijing = pd.read_excel(\n",
        "    \"/content/path_scores/path_scores/beijingPathName.xlsx\")\n",
        "berlin = pd.read_excel(\"/content/path_scores/path_scores/berlinPathName.xlsx\")\n",
        "hongkong = pd.read_excel(\n",
        "    \"/content/path_scores/path_scores/hongkongPathName.xlsx\")\n",
        "london = pd.read_excel(\"/content/path_scores/path_scores/londonPathName.xlsx\")\n",
        "madrid = pd.read_excel(\"/content/path_scores/path_scores/madridPathName.xlsx\")\n",
        "mexico = pd.read_excel(\"/content/path_scores/path_scores/mexicoPathName.xlsx\")\n",
        "moscow = pd.read_excel(\"/content/path_scores/path_scores/moscowPathName.xlsx\")\n",
        "nyc = pd.read_excel(\"/content/path_scores/path_scores/nycPathName.xlsx\")\n",
        "osaka = pd.read_excel(\"/content/path_scores/path_scores/osakaPathName.xlsx\")\n",
        "paris = pd.read_excel(\"/content/path_scores/path_scores/parisPathName.xlsx\")\n",
        "seoul = pd.read_excel(\"/content/path_scores/path_scores/seoulPathName.xlsx\")\n",
        "shanghai = pd.read_excel(\n",
        "    \"/content/path_scores/path_scores/shanghaiPathName.xlsx\")\n",
        "tokyo = pd.read_excel(\"/content/path_scores/path_scores/tokyoPathName.xlsx\")\n"
      ]
    },
    {
      "cell_type": "code",
      "execution_count": null,
      "metadata": {
        "colab": {
          "base_uri": "https://localhost:8080/",
          "height": 206
        },
        "id": "E6P1PdJ485sY",
        "outputId": "a74742c2-5279-488c-b288-3d021eee0672"
      },
      "outputs": [],
      "source": [
        "barcelona.head()\n"
      ]
    },
    {
      "attachments": {},
      "cell_type": "markdown",
      "metadata": {
        "id": "c4_7I5FjQ8la"
      },
      "source": [
        "### Calculate Mean Path Scores\n"
      ]
    },
    {
      "cell_type": "code",
      "execution_count": null,
      "metadata": {
        "id": "ZzmRoN_UQ8DE"
      },
      "outputs": [],
      "source": [
        "city_list = [barcelona, beijing, berlin, hongkong, london, madrid,\n",
        "             mexico, moscow, nyc, osaka, paris, seoul, shanghai, tokyo]\n",
        "city_list_string = [\"Barcelona\", \"Beijing\", \"Berlin\", \"Hong Kong\", \"London\", \"Madrid\",\n",
        "                    \"Mexico City\", \"Moscow\", \"New York City\", \"Osaka\", \"Paris\", \"Seoul\", \"Shanghai\", \"Tokyo\"]\n",
        "\n",
        "means = [np.mean(city['Var1']) for city in city_list]\n"
      ]
    },
    {
      "cell_type": "code",
      "execution_count": null,
      "metadata": {
        "colab": {
          "base_uri": "https://localhost:8080/",
          "height": 221
        },
        "id": "1th9HUwuZPka",
        "outputId": "6f307257-b96e-4f04-ed71-8b90619559bf"
      },
      "outputs": [],
      "source": [
        "dk_robust = [0.1138, 0.0706, 0.0377, 0.1405, 0.1895, 0.0861,\n",
        "             0.1387, 0.0877, 0.1488, 0.1684, 0.2238, 0.0494, 0.2525]\n",
        "means_no_beijing = means.copy()\n",
        "means_no_beijing.pop(1)\n",
        "city_list_string_no_b = city_list_string.copy()\n",
        "city_list_string_no_b.pop(1)\n"
      ]
    },
    {
      "cell_type": "code",
      "execution_count": null,
      "metadata": {
        "colab": {
          "base_uri": "https://localhost:8080/",
          "height": 342
        },
        "id": "Di1-VTSokXSa",
        "outputId": "c206c377-d521-40f8-f6ca-5db4090d99b0"
      },
      "outputs": [],
      "source": [
        "plt.scatter(means_no_beijing, dk_robust)\n",
        "plt.xlabel(\"Mean Path Score\")\n",
        "plt.ylabel(\"Robustness Indicator\")\n",
        "for i, label in enumerate(city_list_string_no_b):\n",
        "    plt.annotate(label, (means_no_beijing[i], dk_robust[i]),\n",
        "                 textcoords=\"offset points\", xytext=((0, 4)), ha=\"center\")\n",
        "plt.show()\n"
      ]
    },
    {
      "cell_type": "code",
      "execution_count": null,
      "metadata": {
        "colab": {
          "base_uri": "https://localhost:8080/",
          "height": 345
        },
        "id": "ElYdv485kl69",
        "outputId": "5cb841b7-2d4b-495e-d013-bfb876f1a636"
      },
      "outputs": [],
      "source": [
        "\n",
        "plt.scatter(means, network_size)\n",
        "plt.xlabel(\"Mean Path Score\")\n",
        "plt.ylabel(\"Network Size\")\n",
        "for i, label in enumerate(city_list_string):\n",
        "    plt.annotate(label, (means[i], network_size[i]),\n",
        "                 textcoords=\"offset points\", xytext=((0, 4)), ha=\"left\")\n",
        "plt.show()\n"
      ]
    },
    {
      "cell_type": "code",
      "execution_count": null,
      "metadata": {
        "colab": {
          "base_uri": "https://localhost:8080/",
          "height": 342
        },
        "id": "CRl92vWwknYa",
        "outputId": "1f2a353b-dae4-4833-caf1-5fd9ee793a77"
      },
      "outputs": [],
      "source": [
        "\n",
        "plt.scatter(means, transfer_fraction)\n",
        "plt.xlabel(\"Mean Path Score\")\n",
        "plt.ylabel(\"Fraction of Transfer Stations\")\n",
        "for i, label in enumerate(city_list_string):\n",
        "    plt.annotate(label, (means[i], transfer_fraction[i]),\n",
        "                 textcoords=\"offset points\", xytext=((0, 5)), ha=\"center\")\n",
        "\n",
        "plt.show()\n"
      ]
    },
    {
      "attachments": {},
      "cell_type": "markdown",
      "metadata": {
        "id": "rKT0_H-v-Fsw"
      },
      "source": [
        "### Create Path Score Distribution\n"
      ]
    },
    {
      "cell_type": "code",
      "execution_count": null,
      "metadata": {
        "colab": {
          "base_uri": "https://localhost:8080/",
          "height": 337
        },
        "id": "fhbbyBjB-SHB",
        "outputId": "659fa615-5f5a-41c0-be3f-3f9b1ad51698"
      },
      "outputs": [],
      "source": [
        "plt.figure(figsize=(cm_to_in(200), cm_to_in(110)))\n",
        "\n",
        "figure, axis = plt.subplots(3, 5)\n",
        "axis[0, 0].hist(barcelona.Var1, bins=int(max(barcelona.Var1)),\n",
        "                edgecolor=\"black\", density=True)\n",
        "axis[0, 0].set_title(\"Barcelona\", fontsize=10)\n",
        "axis[0, 0].set_ylim([0, 0.6])\n",
        "\n",
        "axis[0, 1].hist(beijing.Var1, bins=int(max(beijing.Var1)),\n",
        "                edgecolor=\"black\", density=True)\n",
        "axis[0, 1].set_title(\"Beijing\", fontsize=10)\n",
        "axis[0, 1].set_ylim([0, 0.6])\n",
        "axis[0, 1].set_yticklabels([])\n",
        "\n",
        "axis[0, 2].hist(berlin.Var1, bins=int(max(berlin.Var1)),\n",
        "                edgecolor=\"black\", density=True)\n",
        "axis[0, 2].set_title(\"Berlin\", fontsize=10)\n",
        "axis[0, 2].set_ylim([0, 0.6])\n",
        "axis[0, 2].set_yticklabels([])\n",
        "\n",
        "axis[0, 3].hist(hongkong.Var1, bins=int(max(hongkong.Var1)),\n",
        "                edgecolor=\"black\", density=True)\n",
        "axis[0, 3].set_title(\"Hong Kong\", fontsize=10)\n",
        "axis[0, 3].set_ylim([0, 0.6])\n",
        "axis[0, 3].set_yticklabels([])\n",
        "\n",
        "axis[0, 4].hist(london.Var1, bins=int(max(london.Var1)),\n",
        "                edgecolor=\"black\", density=True)\n",
        "axis[0, 4].set_title(\"London\", fontsize=10)\n",
        "axis[0, 4].set_ylim([0, 0.6])\n",
        "axis[0, 4].set_yticklabels([])\n",
        "\n",
        "axis[1, 0].hist(madrid.Var1, bins=int(max(madrid.Var1)),\n",
        "                edgecolor=\"black\", density=True)\n",
        "axis[1, 0].set_title(\"Madrid\", fontsize=10)\n",
        "axis[1, 0].set_ylim([0, 0.6])\n",
        "\n",
        "axis[1, 1].hist(mexico.Var1, bins=int(max(mexico.Var1)),\n",
        "                edgecolor=\"black\", density=True)\n",
        "axis[1, 1].set_title(\"Mexico City\", fontsize=10)\n",
        "axis[1, 1].set_ylim([0, 0.6])\n",
        "axis[1, 1].set_yticklabels([])\n",
        "\n",
        "axis[1, 2].hist(moscow.Var1, bins=int(max(moscow.Var1)),\n",
        "                edgecolor=\"black\", density=True)\n",
        "axis[1, 2].set_title(\"Moscow\", fontsize=10)\n",
        "axis[1, 2].set_ylim([0, 0.6])\n",
        "axis[1, 2].set_yticklabels([])\n",
        "\n",
        "axis[1, 3].hist(nyc.Var1, bins=int(max(nyc.Var1)),\n",
        "                edgecolor=\"black\", density=True)\n",
        "axis[1, 3].set_title(\"New York City\", fontsize=10)\n",
        "axis[1, 3].set_ylim([0, 0.6])\n",
        "axis[1, 3].set_yticklabels([])\n",
        "\n",
        "axis[1, 4].hist(osaka.Var1, bins=int(max(osaka.Var1)),\n",
        "                edgecolor=\"black\", density=True)\n",
        "axis[1, 4].set_title(\"Osaka\", fontsize=10)\n",
        "axis[1, 4].set_ylim([0, 0.6])\n",
        "axis[1, 4].set_yticklabels([])\n",
        "\n",
        "axis[2, 0].hist(paris.Var1, bins=int(max(paris.Var1)),\n",
        "                edgecolor=\"black\", density=True)\n",
        "axis[2, 0].set_title(\"Paris\", fontsize=10)\n",
        "axis[2, 0].set_ylim([0, 0.6])\n",
        "\n",
        "axis[2, 1].hist(seoul.Var1, bins=int(max(seoul.Var1)),\n",
        "                edgecolor=\"black\", density=True)\n",
        "axis[2, 1].set_title(\"Seoul\", fontsize=10)\n",
        "axis[2, 1].set_ylim([0, 0.6])\n",
        "axis[2, 1].set_yticklabels([])\n",
        "\n",
        "axis[2, 2].hist(shanghai.Var1, bins=int(max(shanghai.Var1)),\n",
        "                edgecolor=\"black\", density=True)\n",
        "axis[2, 2].set_title(\"Shanghai\", fontsize=10)\n",
        "axis[2, 2].set_ylim([0, 0.6])\n",
        "axis[2, 2].set_yticklabels([])\n",
        "\n",
        "axis[2, 3].hist(tokyo.Var1, bins=int(max(tokyo.Var1)),\n",
        "                edgecolor=\"black\", density=True)\n",
        "axis[2, 3].set_title(\"Tokyo\", fontsize=10)\n",
        "axis[2, 3].set_ylim([0, 0.6])\n",
        "axis[2, 3].set_yticklabels([])\n",
        "\n",
        "\n",
        "figure.delaxes(axis[2, 4])\n",
        "\n",
        "figure.supxlabel(\"Path Score\")\n",
        "figure.supylabel(\"Density\")\n",
        "\n",
        "plt.show()\n"
      ]
    },
    {
      "cell_type": "code",
      "execution_count": null,
      "metadata": {
        "colab": {
          "base_uri": "https://localhost:8080/",
          "height": 568
        },
        "id": "br331RY0g0g7",
        "outputId": "9d7606d5-d7fc-4d67-973f-a9225c38e633"
      },
      "outputs": [],
      "source": [
        "plt.figure(figsize=(cm_to_in(8.7), cm_to_in(8.7)))\n",
        "\n",
        "figure, axis = plt.subplots(2, 2)\n",
        "\n",
        "axis[0, 0].hist(barcelona.Var1, bins=int(max(barcelona.Var1)),\n",
        "                edgecolor=\"black\", density=True)\n",
        "axis[0, 0].set_title(\"Barcelona\", fontsize=10)\n",
        "\n",
        "axis[0, 1].hist(moscow.Var1, bins=int(max(moscow.Var1)),\n",
        "                edgecolor=\"black\", density=True)\n",
        "axis[0, 1].set_title(\"Moscow\", fontsize=10)\n",
        "\n",
        "axis[1, 0].hist(tokyo.Var1, bins=int(max(tokyo.Var1)),\n",
        "                edgecolor=\"black\", density=True)\n",
        "axis[1, 0].set_title(\"Tokyo\", fontsize=10)\n",
        "\n",
        "\n",
        "axis[1, 1].hist(nyc.Var1, bins=int(max(nyc.Var1)),\n",
        "                edgecolor=\"black\", density=True)\n",
        "axis[1, 1].set_title(\"New York City\", fontsize=10)\n",
        "\n",
        "\n",
        "figure.supxlabel(\"Path Score\")\n",
        "figure.supylabel(\"Density\")\n",
        "\n",
        "plt.show()\n"
      ]
    },
    {
      "attachments": {},
      "cell_type": "markdown",
      "metadata": {
        "id": "kg09raFFGai7"
      },
      "source": [
        "## Visualizing Path Scores\n",
        "\n",
        "Add path score as an attribute to each graph\n"
      ]
    },
    {
      "cell_type": "code",
      "execution_count": null,
      "metadata": {
        "id": "yqTzNq3qGNtq"
      },
      "outputs": [],
      "source": [
        "# turn df into a dict\n",
        "ps_dicts = [{}]*14\n",
        "graph_list = [G_barcelona, G_beijing, G_berlin, G_hongkong, G_london, G_madrid,\n",
        "              G_mexico, G_moscow, G_nyc, G_osaka, G_paris, G_seoul, G_shanghai, G_tokyo]\n",
        "\n",
        "for i in range(len(ps_dicts)):\n",
        "    for j in range(len(city_list[i])):\n",
        "        ps_dicts[i][city_list[i].Var2[j]] = city_list[i].Var1[j]\n"
      ]
    },
    {
      "cell_type": "code",
      "execution_count": null,
      "metadata": {
        "id": "HibgtAcIIOg9"
      },
      "outputs": [],
      "source": [
        "for i in range(len(ps_dicts)):\n",
        "    nx.set_node_attributes(graph_list[i], ps_dicts[i], 'path_score')\n"
      ]
    },
    {
      "attachments": {},
      "cell_type": "markdown",
      "metadata": {
        "id": "_x7bQNC_IyCT"
      },
      "source": [
        "### Heat Maps\n",
        "\n",
        "Make graphs in spring layout with color heat map"
      ]
    },
    {
      "cell_type": "code",
      "execution_count": null,
      "metadata": {
        "colab": {
          "base_uri": "https://localhost:8080/"
        },
        "id": "iNf8abGZKVf_",
        "outputId": "b73ff9b9-8600-4a9e-c104-0542af142d02"
      },
      "outputs": [],
      "source": [
        "nx.get_node_attributes(G_barcelona, 'path_score')\n"
      ]
    },
    {
      "cell_type": "code",
      "execution_count": null,
      "metadata": {
        "colab": {
          "base_uri": "https://localhost:8080/",
          "height": 1000
        },
        "id": "XXOayPHSIxrh",
        "outputId": "dc18798d-9e7e-4cda-96a3-2a682cdad37a"
      },
      "outputs": [],
      "source": [
        "for i in range(0, 14):\n",
        "    d = nx.get_node_attributes(graph_list[i], 'path_score')\n",
        "    low, *_, high = sorted(d.values())\n",
        "    norm = mpl.colors.Normalize(vmin=low, vmax=high, clip=True)\n",
        "    mapper = mpl.cm.ScalarMappable(norm=norm, cmap=mpl.cm.coolwarm)\n",
        "\n",
        "    pos = nx.spring_layout(graph_list[i])\n",
        "    nx.draw_networkx(graph_list[i], pos, arrows=False, font_size=4,\n",
        "                     nodelist=d,\n",
        "                     node_size=200,\n",
        "                     node_color=[mapper.to_rgba(i)\n",
        "                                 for i in d.values()],\n",
        "                     with_labels=True,\n",
        "                     font_color='black')\n",
        "    plt.title(city_list_string[i])\n",
        "    plt.show()\n"
      ]
    },
    {
      "cell_type": "code",
      "execution_count": null,
      "metadata": {},
      "outputs": [],
      "source": [
        "barc_with_ps = graph_list[0]\n",
        "d = nx.get_node_attributes(barc_with_ps, 'path_score')  # that's barcelona\n",
        "low, *_, high = sorted(d.values())\n",
        "norm = mpl.colors.Normalize(vmin=low, vmax=high, clip=True)\n",
        "mapper = mpl.cm.ScalarMappable(norm=norm, cmap=mpl.colormaps[\"viridis\"])\n",
        "\n",
        "pos = nx.spring_layout(barc_with_ps)\n",
        "nx.draw_networkx(barc_with_ps, pos, arrows=False, font_size=4,\n",
        "                 nodelist=d,\n",
        "                 node_size=75,\n",
        "                 node_color=[mapper.to_rgba(i)\n",
        "                             for i in d.values()],\n",
        "                 with_labels=False,\n",
        "                 font_color='black')\n",
        "# plt.title(\"Barcelona Subway Network with Path Score\")\n",
        "plt.colorbar(mapper, label=\"Path Score\")\n",
        "plt.show()\n"
      ]
    },
    {
      "cell_type": "code",
      "execution_count": null,
      "metadata": {},
      "outputs": [],
      "source": [
        "moscow_with_ps = graph_list[7]\n",
        "d = nx.get_node_attributes(moscow_with_ps, 'path_score')  # that's barcelona\n",
        "low, *_, high = sorted(d.values())\n",
        "norm = mpl.colors.Normalize(vmin=low, vmax=high, clip=True)\n",
        "mapper = mpl.cm.ScalarMappable(norm=norm, cmap=mpl.colormaps[\"viridis\"])\n",
        "\n",
        "pos = nx.spring_layout(moscow_with_ps)\n",
        "# pos = nx.planar_layout(moscow_with_ps)\n",
        "nx.draw_networkx(moscow_with_ps, pos, arrows=False, font_size=4,\n",
        "                 nodelist=d,\n",
        "                 node_size=75,\n",
        "                 node_color=[mapper.to_rgba(i)\n",
        "                             for i in d.values()],\n",
        "                 with_labels=False,\n",
        "                 font_color='black')\n",
        "plt.colorbar(mapper, label=\"Path Score\")\n",
        "plt.show()\n"
      ]
    },
    {
      "cell_type": "code",
      "execution_count": null,
      "metadata": {},
      "outputs": [],
      "source": [
        "hongkong_with_ps = graph_list[3]\n",
        "d = nx.get_node_attributes(hongkong_with_ps, 'path_score')  # that's barcelona\n",
        "low, *_, high = sorted(d.values())\n",
        "norm = mpl.colors.Normalize(vmin=low, vmax=high, clip=True)\n",
        "mapper = mpl.cm.ScalarMappable(norm=norm, cmap=mpl.colormaps[\"viridis\"])\n",
        "\n",
        "pos = nx.spring_layout(hongkong_with_ps)\n",
        "nx.draw_networkx(hongkong_with_ps, pos, arrows=False, font_size=4,\n",
        "                 nodelist=d,\n",
        "                 node_size=75,\n",
        "                 node_color=[mapper.to_rgba(i)\n",
        "                             for i in d.values()],\n",
        "                 with_labels=False,\n",
        "                 font_color='black')\n",
        "plt.colorbar(mapper, label=\"Path Score\")\n",
        "plt.show()\n"
      ]
    },
    {
      "cell_type": "code",
      "execution_count": null,
      "metadata": {
        "colab": {
          "base_uri": "https://localhost:8080/"
        },
        "id": "Hdrbhi-xNKwX",
        "outputId": "a5449c56-8c61-4fc7-9645-5faf79befd61"
      },
      "outputs": [],
      "source": [
        "# get vector of frac of path score's 0\n",
        "# this does not line up with this histogram unless I am totally tripping rn\n",
        "ps_0 = []\n",
        "for i in range(0, 14):\n",
        "    ps_0.append(sum(j == 0 for j in nx.get_node_attributes(\n",
        "        graph_list[i], 'path_score').values()))\n",
        "\n",
        "ps_0_frac = [i / j for i, j in zip(ps_0, network_size)]\n",
        "ps_0_frac\n"
      ]
    },
    {
      "cell_type": "code",
      "execution_count": null,
      "metadata": {
        "id": "wsC51BDtU-py"
      },
      "outputs": [],
      "source": [
        "dk_robust.insert(1, np.nan)\n"
      ]
    },
    {
      "cell_type": "code",
      "execution_count": null,
      "metadata": {
        "colab": {
          "base_uri": "https://localhost:8080/",
          "height": 244
        },
        "id": "1iOPu6m9luHr",
        "outputId": "aa90d9c6-e57e-4706-b99f-3b4ec02bbc95"
      },
      "outputs": [],
      "source": [
        "barc_with_ps = graph_list[0]\n",
        "d = nx.get_node_attributes(barc_with_ps, 'path_score')  # that's barcelona\n",
        "low, *_, high = sorted(d.values())\n",
        "norm = mpl.colors.Normalize(vmin=low, vmax=high, clip=True)\n",
        "mapper = mpl.cm.ScalarMappable(norm=norm, cmap=mpl.colormaps[\"viridis\"])\n",
        "\n",
        "pos = nx.spring_layout(barc_with_ps)\n",
        "nx.draw_networkx(barc_with_ps, pos, arrows=False, font_size=4,\n",
        "                 nodelist=d,\n",
        "                 node_size=75,\n",
        "                 node_color=[mapper.to_rgba(i)\n",
        "                             for i in d.values()],\n",
        "                 with_labels=False,\n",
        "                 font_color='black')\n",
        "# plt.title(\"Barcelona Subway Network with Path Score\")\n",
        "plt.colorbar(mapper, label=\"Path Score\")\n",
        "plt.show()\n"
      ]
    },
    {
      "cell_type": "code",
      "execution_count": null,
      "metadata": {
        "id": "z14Bb58QlsH1"
      },
      "outputs": [],
      "source": [
        "moscow_with_ps = graph_list[7]\n",
        "d = nx.get_node_attributes(moscow_with_ps, 'path_score')  # that's barcelona\n",
        "low, *_, high = sorted(d.values())\n",
        "norm = mpl.colors.Normalize(vmin=low, vmax=high, clip=True)\n",
        "mapper = mpl.cm.ScalarMappable(norm=norm, cmap=mpl.colormaps[\"viridis\"])\n",
        "\n",
        "pos = nx.spring_layout(moscow_with_ps)\n",
        "nx.draw_networkx(moscow_with_ps, pos, arrows=False, font_size=4,\n",
        "                 nodelist=d,\n",
        "                 node_size=75,\n",
        "                 node_color=[mapper.to_rgba(i)\n",
        "                             for i in d.values()],\n",
        "                 with_labels=False,\n",
        "                 font_color='black')\n",
        "plt.colorbar(mapper, label=\"Path Score\")\n",
        "plt.show()\n"
      ]
    },
    {
      "cell_type": "code",
      "execution_count": null,
      "metadata": {
        "colab": {
          "base_uri": "https://localhost:8080/",
          "height": 489
        },
        "id": "sAVPdA2zTCLI",
        "outputId": "1c073b86-4f59-4a6e-ebf8-c053d11ae357"
      },
      "outputs": [],
      "source": [
        "# create pandas dataframe of things for table\n",
        "city_list_final = [\"Barcelona\", \"Beijing\", \"Berlin\", \"Hong Kong\", \"London\", \"Madrid\",\n",
        "                   \"Mexico City\", \"Moscow\", \"New York City\", \"Osaka\", \"Paris\", \"Seoul\", \"Shanghai\", \"Tokyo\"]\n",
        "df_data = list(zip(city_list_final, means, dk_robust,\n",
        "               ps_0_frac, transfer_fraction))\n",
        "table = pd.DataFrame(df_data, columns=['City', 'Mean Path Score', 'Derrible and Kennedy Metric',\n",
        "                     \"Fraction of Nodes with PS 0\", \"Fraction of Transfer Stations\"])\n",
        "table\n"
      ]
    },
    {
      "cell_type": "code",
      "execution_count": null,
      "metadata": {
        "colab": {
          "base_uri": "https://localhost:8080/"
        },
        "id": "cCp_1HkDAa-v",
        "outputId": "d0cd1be1-1828-44ee-e2e4-1b5af1ecf3b5"
      },
      "outputs": [],
      "source": [
        "print(table.to_latex(index=False, float_format=\"%.2f\"))\n"
      ]
    }
  ],
  "metadata": {
    "colab": {
      "provenance": []
    },
    "kernelspec": {
      "display_name": "base",
      "language": "python",
      "name": "python3"
    },
    "language_info": {
      "name": "python",
      "version": "3.9.13 (main, Oct 13 2022, 16:12:19) \n[Clang 12.0.0 ]"
    },
    "vscode": {
      "interpreter": {
        "hash": "38cca0c38332a56087b24af0bc80247f4fced29cb4f7f437d91dc159adec9c4e"
      }
    }
  },
  "nbformat": 4,
  "nbformat_minor": 0
}
